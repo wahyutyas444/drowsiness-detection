{
  "nbformat": 4,
  "nbformat_minor": 0,
  "metadata": {
    "colab": {
      "provenance": []
    },
    "kernelspec": {
      "name": "python3",
      "display_name": "Python 3"
    },
    "language_info": {
      "name": "python"
    }
  },
  "cells": [
    {
      "cell_type": "markdown",
      "source": [
        "## Mounting Drive"
      ],
      "metadata": {
        "id": "HQjNlPKga5_3"
      }
    },
    {
      "cell_type": "code",
      "source": [
        "from google.colab import drive\n",
        "drive.mount('/content/drive')"
      ],
      "metadata": {
        "colab": {
          "base_uri": "https://localhost:8080/"
        },
        "id": "NS4dAkGTalk7",
        "outputId": "3d6f4103-5326-4023-c151-a3b2a9e63a24"
      },
      "execution_count": null,
      "outputs": [
        {
          "output_type": "stream",
          "name": "stdout",
          "text": [
            "Mounted at /content/drive\n"
          ]
        }
      ]
    },
    {
      "cell_type": "markdown",
      "source": [
        "## Import Library"
      ],
      "metadata": {
        "id": "QflO7qZja8AP"
      }
    },
    {
      "cell_type": "code",
      "execution_count": null,
      "metadata": {
        "id": "01GRln9mYf_c"
      },
      "outputs": [],
      "source": [
        "import os\n",
        "import pickle\n",
        "import numpy as np\n",
        "from sklearn.metrics import classification_report\n",
        "from tensorflow.keras.models import Sequential\n",
        "from tensorflow.keras.layers import Dense, Dropout\n",
        "from tensorflow.keras.utils import to_categorical"
      ]
    },
    {
      "cell_type": "markdown",
      "source": [
        "## Validasi"
      ],
      "metadata": {
        "id": "9AbEc1Dla-8p"
      }
    },
    {
      "cell_type": "code",
      "source": [
        "# Path hasil ekstraksi fitur\n",
        "path_output = \"/content/drive/MyDrive/STKI/DatasetFinal/model\"\n",
        "train_file = os.path.join(path_output, \"fitur_vggface.pkl\")\n",
        "val_file = os.path.join(path_output, \"fitur_val_vggface.pkl\")"
      ],
      "metadata": {
        "id": "_E56J6d9appm"
      },
      "execution_count": null,
      "outputs": []
    },
    {
      "cell_type": "code",
      "source": [
        "# Load fitur dan label untuk train\n",
        "if not os.path.exists(train_file):\n",
        "    raise FileNotFoundError(f\"Hasil ekstraksi train tidak ditemukan di {train_file}\")\n",
        "if not os.path.exists(val_file):\n",
        "    raise FileNotFoundError(f\"Hasil ekstraksi val tidak ditemukan di {val_file}\")\n",
        "\n",
        "with open(train_file, \"rb\") as f:\n",
        "    train_data = pickle.load(f)\n",
        "    train_features = np.array(train_data[\"features\"])\n",
        "    train_labels = np.array(train_data[\"labels\"])\n",
        "\n",
        "with open(val_file, \"rb\") as f:\n",
        "    val_data = pickle.load(f)\n",
        "    val_features = np.array(val_data[\"features\"])\n",
        "    val_labels = np.array(val_data[\"labels\"])"
      ],
      "metadata": {
        "id": "G27Rua6haqJN"
      },
      "execution_count": null,
      "outputs": []
    },
    {
      "cell_type": "code",
      "source": [
        "# Label encoding\n",
        "label_map = {\"Drowsy\": 0, \"Non Drowsy\": 1}\n",
        "train_labels_encoded = np.array([label_map[label] for label in train_labels])\n",
        "val_labels_encoded = np.array([label_map[label] for label in val_labels])\n",
        "\n",
        "# One-hot encoding untuk label\n",
        "train_labels_categorical = to_categorical(train_labels_encoded, num_classes=2)\n",
        "val_labels_categorical = to_categorical(val_labels_encoded, num_classes=2)"
      ],
      "metadata": {
        "id": "smOsvba4at-Q"
      },
      "execution_count": null,
      "outputs": []
    },
    {
      "cell_type": "code",
      "source": [
        "# Bangun model FCNN\n",
        "print(\"Membangun model FCNN...\")\n",
        "model = Sequential([\n",
        "    Dense(256, activation='relu', input_shape=(train_features.shape[1],)),\n",
        "    Dropout(0.5),\n",
        "    Dense(128, activation='relu'),\n",
        "    Dropout(0.5),\n",
        "    Dense(2, activation='softmax')\n",
        "])\n",
        "\n",
        "model.compile(optimizer='adam', loss='categorical_crossentropy', metrics=['accuracy'])\n",
        "\n",
        "# Latih model\n",
        "print(\"Melatih model FCNN...\")\n",
        "history = model.fit(\n",
        "    train_features, train_labels_categorical,\n",
        "    epochs=20,\n",
        "    batch_size=32,\n",
        "    validation_data=(val_features, val_labels_categorical)\n",
        ")\n",
        "\n",
        "# Simpan model\n",
        "model_save_path = os.path.join(path_output, \"fcnn_model.h5\")\n",
        "model.save(model_save_path)\n",
        "print(f\"Model disimpan di {model_save_path}\")"
      ],
      "metadata": {
        "colab": {
          "base_uri": "https://localhost:8080/"
        },
        "id": "vlZH0ugRawPO",
        "outputId": "7b4cd845-9c2c-4d8a-89f4-d9258c956583"
      },
      "execution_count": null,
      "outputs": [
        {
          "output_type": "stream",
          "name": "stdout",
          "text": [
            "Membangun model FCNN...\n",
            "Melatih model FCNN...\n"
          ]
        },
        {
          "output_type": "stream",
          "name": "stderr",
          "text": [
            "/usr/local/lib/python3.10/dist-packages/keras/src/layers/core/dense.py:87: UserWarning: Do not pass an `input_shape`/`input_dim` argument to a layer. When using Sequential models, prefer using an `Input(shape)` object as the first layer in the model instead.\n",
            "  super().__init__(activity_regularizer=activity_regularizer, **kwargs)\n"
          ]
        },
        {
          "output_type": "stream",
          "name": "stdout",
          "text": [
            "Epoch 1/20\n",
            "\u001b[1m914/914\u001b[0m \u001b[32m━━━━━━━━━━━━━━━━━━━━\u001b[0m\u001b[37m\u001b[0m \u001b[1m20s\u001b[0m 21ms/step - accuracy: 0.9382 - loss: 0.1373 - val_accuracy: 0.9976 - val_loss: 0.0065\n",
            "Epoch 2/20\n",
            "\u001b[1m914/914\u001b[0m \u001b[32m━━━━━━━━━━━━━━━━━━━━\u001b[0m\u001b[37m\u001b[0m \u001b[1m22s\u001b[0m 23ms/step - accuracy: 0.9964 - loss: 0.0108 - val_accuracy: 0.9981 - val_loss: 0.0043\n",
            "Epoch 3/20\n",
            "\u001b[1m914/914\u001b[0m \u001b[32m━━━━━━━━━━━━━━━━━━━━\u001b[0m\u001b[37m\u001b[0m \u001b[1m40s\u001b[0m 22ms/step - accuracy: 0.9986 - loss: 0.0050 - val_accuracy: 0.9986 - val_loss: 0.0036\n",
            "Epoch 4/20\n",
            "\u001b[1m914/914\u001b[0m \u001b[32m━━━━━━━━━━━━━━━━━━━━\u001b[0m\u001b[37m\u001b[0m \u001b[1m21s\u001b[0m 22ms/step - accuracy: 0.9984 - loss: 0.0049 - val_accuracy: 0.9986 - val_loss: 0.0045\n",
            "Epoch 5/20\n",
            "\u001b[1m914/914\u001b[0m \u001b[32m━━━━━━━━━━━━━━━━━━━━\u001b[0m\u001b[37m\u001b[0m \u001b[1m19s\u001b[0m 21ms/step - accuracy: 0.9987 - loss: 0.0032 - val_accuracy: 0.9987 - val_loss: 0.0044\n",
            "Epoch 6/20\n",
            "\u001b[1m914/914\u001b[0m \u001b[32m━━━━━━━━━━━━━━━━━━━━\u001b[0m\u001b[37m\u001b[0m \u001b[1m21s\u001b[0m 21ms/step - accuracy: 0.9994 - loss: 0.0021 - val_accuracy: 0.9987 - val_loss: 0.0057\n",
            "Epoch 7/20\n",
            "\u001b[1m914/914\u001b[0m \u001b[32m━━━━━━━━━━━━━━━━━━━━\u001b[0m\u001b[37m\u001b[0m \u001b[1m19s\u001b[0m 20ms/step - accuracy: 0.9995 - loss: 0.0014 - val_accuracy: 0.9986 - val_loss: 0.0038\n",
            "Epoch 8/20\n",
            "\u001b[1m914/914\u001b[0m \u001b[32m━━━━━━━━━━━━━━━━━━━━\u001b[0m\u001b[37m\u001b[0m \u001b[1m21s\u001b[0m 21ms/step - accuracy: 0.9984 - loss: 0.0049 - val_accuracy: 0.9986 - val_loss: 0.0037\n",
            "Epoch 9/20\n",
            "\u001b[1m914/914\u001b[0m \u001b[32m━━━━━━━━━━━━━━━━━━━━\u001b[0m\u001b[37m\u001b[0m \u001b[1m20s\u001b[0m 20ms/step - accuracy: 0.9993 - loss: 0.0032 - val_accuracy: 0.9989 - val_loss: 0.0026\n",
            "Epoch 10/20\n",
            "\u001b[1m914/914\u001b[0m \u001b[32m━━━━━━━━━━━━━━━━━━━━\u001b[0m\u001b[37m\u001b[0m \u001b[1m19s\u001b[0m 19ms/step - accuracy: 0.9996 - loss: 0.0014 - val_accuracy: 0.9982 - val_loss: 0.0033\n",
            "Epoch 11/20\n",
            "\u001b[1m914/914\u001b[0m \u001b[32m━━━━━━━━━━━━━━━━━━━━\u001b[0m\u001b[37m\u001b[0m \u001b[1m23s\u001b[0m 25ms/step - accuracy: 0.9989 - loss: 0.0030 - val_accuracy: 0.9990 - val_loss: 0.0030\n",
            "Epoch 12/20\n",
            "\u001b[1m914/914\u001b[0m \u001b[32m━━━━━━━━━━━━━━━━━━━━\u001b[0m\u001b[37m\u001b[0m \u001b[1m19s\u001b[0m 20ms/step - accuracy: 0.9998 - loss: 5.9436e-04 - val_accuracy: 0.9992 - val_loss: 0.0024\n",
            "Epoch 13/20\n",
            "\u001b[1m914/914\u001b[0m \u001b[32m━━━━━━━━━━━━━━━━━━━━\u001b[0m\u001b[37m\u001b[0m \u001b[1m19s\u001b[0m 20ms/step - accuracy: 0.9997 - loss: 0.0013 - val_accuracy: 0.9984 - val_loss: 0.0056\n",
            "Epoch 14/20\n",
            "\u001b[1m914/914\u001b[0m \u001b[32m━━━━━━━━━━━━━━━━━━━━\u001b[0m\u001b[37m\u001b[0m \u001b[1m21s\u001b[0m 21ms/step - accuracy: 0.9995 - loss: 0.0013 - val_accuracy: 0.9989 - val_loss: 0.0036\n",
            "Epoch 15/20\n",
            "\u001b[1m914/914\u001b[0m \u001b[32m━━━━━━━━━━━━━━━━━━━━\u001b[0m\u001b[37m\u001b[0m \u001b[1m19s\u001b[0m 21ms/step - accuracy: 0.9997 - loss: 0.0013 - val_accuracy: 0.9992 - val_loss: 0.0022\n",
            "Epoch 16/20\n",
            "\u001b[1m914/914\u001b[0m \u001b[32m━━━━━━━━━━━━━━━━━━━━\u001b[0m\u001b[37m\u001b[0m \u001b[1m19s\u001b[0m 19ms/step - accuracy: 0.9998 - loss: 9.2032e-04 - val_accuracy: 0.9984 - val_loss: 0.0061\n",
            "Epoch 17/20\n",
            "\u001b[1m914/914\u001b[0m \u001b[32m━━━━━━━━━━━━━━━━━━━━\u001b[0m\u001b[37m\u001b[0m \u001b[1m20s\u001b[0m 19ms/step - accuracy: 0.9996 - loss: 0.0019 - val_accuracy: 0.9990 - val_loss: 0.0035\n",
            "Epoch 18/20\n",
            "\u001b[1m914/914\u001b[0m \u001b[32m━━━━━━━━━━━━━━━━━━━━\u001b[0m\u001b[37m\u001b[0m \u001b[1m22s\u001b[0m 21ms/step - accuracy: 0.9999 - loss: 1.9233e-04 - val_accuracy: 0.9990 - val_loss: 0.0044\n",
            "Epoch 19/20\n",
            "\u001b[1m914/914\u001b[0m \u001b[32m━━━━━━━━━━━━━━━━━━━━\u001b[0m\u001b[37m\u001b[0m \u001b[1m20s\u001b[0m 22ms/step - accuracy: 0.9997 - loss: 0.0014 - val_accuracy: 0.9992 - val_loss: 0.0023\n",
            "Epoch 20/20\n",
            "\u001b[1m914/914\u001b[0m \u001b[32m━━━━━━━━━━━━━━━━━━━━\u001b[0m\u001b[37m\u001b[0m \u001b[1m19s\u001b[0m 21ms/step - accuracy: 0.9994 - loss: 0.0015 - val_accuracy: 0.9989 - val_loss: 0.0021\n"
          ]
        },
        {
          "output_type": "stream",
          "name": "stderr",
          "text": [
            "WARNING:absl:You are saving your model as an HDF5 file via `model.save()` or `keras.saving.save_model(model)`. This file format is considered legacy. We recommend using instead the native Keras format, e.g. `model.save('my_model.keras')` or `keras.saving.save_model(model, 'my_model.keras')`. \n"
          ]
        },
        {
          "output_type": "stream",
          "name": "stdout",
          "text": [
            "Model disimpan di /content/drive/MyDrive/STKI/DatasetFinal/model/fcnn_model.h5\n"
          ]
        }
      ]
    },
    {
      "cell_type": "code",
      "source": [
        "# Evaluasi model\n",
        "print(\"Evaluasi model pada data validasi...\")\n",
        "predictions = model.predict(val_features)\n",
        "predicted_labels = np.argmax(predictions, axis=1)\n",
        "\n",
        "print(\"Classification Report:\")\n",
        "print(classification_report(val_labels_encoded, predicted_labels, target_names=[\"Drowsy\", \"Non Drowsy\"]))"
      ],
      "metadata": {
        "colab": {
          "base_uri": "https://localhost:8080/"
        },
        "id": "eonj289uazhn",
        "outputId": "97f8baeb-2450-48ed-d76f-2c8fbce6b537"
      },
      "execution_count": null,
      "outputs": [
        {
          "output_type": "stream",
          "name": "stdout",
          "text": [
            "Evaluasi model pada data validasi...\n",
            "\u001b[1m196/196\u001b[0m \u001b[32m━━━━━━━━━━━━━━━━━━━━\u001b[0m\u001b[37m\u001b[0m \u001b[1m1s\u001b[0m 5ms/step\n",
            "Classification Report:\n",
            "              precision    recall  f1-score   support\n",
            "\n",
            "      Drowsy       1.00      1.00      1.00      3344\n",
            "  Non Drowsy       1.00      1.00      1.00      2905\n",
            "\n",
            "    accuracy                           1.00      6249\n",
            "   macro avg       1.00      1.00      1.00      6249\n",
            "weighted avg       1.00      1.00      1.00      6249\n",
            "\n"
          ]
        }
      ]
    }
  ]
}